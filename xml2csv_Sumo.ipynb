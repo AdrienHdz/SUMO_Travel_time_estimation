{
  "nbformat": 4,
  "nbformat_minor": 0,
  "metadata": {
    "colab": {
      "name": "xml2csv_Sumo.ipynb",
      "provenance": [],
      "collapsed_sections": [],
      "authorship_tag": "ABX9TyM2atC0rwoQrXivcgPcYhx0",
      "include_colab_link": true
    },
    "kernelspec": {
      "name": "python3",
      "display_name": "Python 3"
    }
  },
  "cells": [
    {
      "cell_type": "markdown",
      "metadata": {
        "id": "view-in-github",
        "colab_type": "text"
      },
      "source": [
        "<a href=\"https://colab.research.google.com/github/AdrienHdz/SUMO_Travel_time_estimation/blob/master/xml2csv_Sumo.ipynb\" target=\"_parent\"><img src=\"https://colab.research.google.com/assets/colab-badge.svg\" alt=\"Open In Colab\"/></a>"
      ]
    },
    {
      "cell_type": "code",
      "metadata": {
        "id": "uKyQR-ygP2OU",
        "colab_type": "code",
        "colab": {
          "base_uri": "https://localhost:8080/",
          "height": 35
        },
        "outputId": "a1e9d58e-4374-4adf-e078-7f10f5c4cc25"
      },
      "source": [
        "#!/usr/bin/env python\n",
        "# Eclipse SUMO, Simulation of Urban MObility; see https://eclipse.org/sumo\n",
        "# Copyright (C) 2013-2019 German Aerospace Center (DLR) and others.\n",
        "# This program and the accompanying materials\n",
        "# are made available under the terms of the Eclipse Public License v2.0\n",
        "# which accompanies this distribution, and is available at\n",
        "# http://www.eclipse.org/legal/epl-v20.html\n",
        "# SPDX-License-Identifier: EPL-2.0\n",
        "\n",
        "# @file    xml2csv_Sumo.py\n",
        "# @author  Adrien Hernandez\n",
        "\n",
        "import xml.etree.ElementTree as ET\n",
        "import pandas as pd\n",
        "\n",
        "# Select Sumo vehroute xml output \n",
        "mytree = ET.parse('most.vehroute.xml')\n",
        "myroot = mytree.getroot()\n",
        "\n",
        "print(myroot)"
      ],
      "execution_count": null,
      "outputs": [
        {
          "output_type": "stream",
          "text": [
            "<Element 'routes' at 0x7f82b23881d8>\n"
          ],
          "name": "stdout"
        }
      ]
    },
    {
      "cell_type": "code",
      "metadata": {
        "id": "GfXGZxzJqaJv",
        "colab_type": "code",
        "colab": {}
      },
      "source": [
        "test = []\n",
        "id_trip = []\n",
        "type_vehicle = []\n",
        "depart = []\n",
        "edges = []\n",
        "exitTimes = []\n",
        "\n",
        "for child in myroot.findall(\"vehicle\"):\n",
        "  id_trip.append(child.get(\"id\"))\n",
        "  type_vehicle.append(child.get(\"type\"))\n",
        "  depart.append(child.get(\"depart\"))\n",
        "  if child.find(\"route\") is not None:\n",
        "    rank = child.find('route')\n",
        "    edges.append(rank.get(\"edges\"))\n",
        "    exitTimes.append(rank.get(\"exitTimes\"))\n",
        "  else:\n",
        "    rank = child.find('routeDistribution')\n",
        "    rank = rank[-1]\n",
        "    for rout in rank.iter('route'):\n",
        "      edges.append(rout.get(\"edges\"))\n",
        "      exitTimes.append(rout.get(\"exitTimes\"))"
      ],
      "execution_count": null,
      "outputs": []
    },
    {
      "cell_type": "code",
      "metadata": {
        "id": "Ql_ielVKebIS",
        "colab_type": "code",
        "colab": {
          "base_uri": "https://localhost:8080/",
          "height": 35
        },
        "outputId": "a16b93da-610b-473d-d9bd-d0215b373638"
      },
      "source": [
        "len(id_trip), len(type_vehicle), len(depart), len(edges), len(exitTimes)"
      ],
      "execution_count": null,
      "outputs": [
        {
          "output_type": "execute_result",
          "data": {
            "text/plain": [
              "(46811, 46811, 46811, 46811, 46811)"
            ]
          },
          "metadata": {
            "tags": []
          },
          "execution_count": 5
        }
      ]
    },
    {
      "cell_type": "code",
      "metadata": {
        "id": "MW0dvq9hlQ1x",
        "colab_type": "code",
        "colab": {}
      },
      "source": [
        "id_trip = pd.Series(id_trip); type_vehicle = pd.Series(type_vehicle); depart = pd.Series(depart); edges = pd.Series(edges); exitTimes = pd.Series(exitTimes)"
      ],
      "execution_count": null,
      "outputs": []
    },
    {
      "cell_type": "code",
      "metadata": {
        "id": "s1ELtbVGobF0",
        "colab_type": "code",
        "colab": {}
      },
      "source": [
        "vehroutedata = pd.concat([id_trip, type_vehicle, depart, edges, exitTimes], axis=1)\n",
        "vehroutedata.columns = [\"id\", \"type\", \"depart\", \"edge\", \"exitTimes\"]"
      ],
      "execution_count": null,
      "outputs": []
    },
    {
      "cell_type": "code",
      "metadata": {
        "id": "R33EHJmojbc_",
        "colab_type": "code",
        "colab": {
          "base_uri": "https://localhost:8080/",
          "height": 415
        },
        "outputId": "b7f17554-3863-4b37-9bcf-cc4c0a652358"
      },
      "source": [
        "print(vehroutedata)"
      ],
      "execution_count": null,
      "outputs": [
        {
          "output_type": "execute_result",
          "data": {
            "text/html": [
              "<div>\n",
              "<style scoped>\n",
              "    .dataframe tbody tr th:only-of-type {\n",
              "        vertical-align: middle;\n",
              "    }\n",
              "\n",
              "    .dataframe tbody tr th {\n",
              "        vertical-align: top;\n",
              "    }\n",
              "\n",
              "    .dataframe thead th {\n",
              "        text-align: right;\n",
              "    }\n",
              "</style>\n",
              "<table border=\"1\" class=\"dataframe\">\n",
              "  <thead>\n",
              "    <tr style=\"text-align: right;\">\n",
              "      <th></th>\n",
              "      <th>id</th>\n",
              "      <th>type</th>\n",
              "      <th>depart</th>\n",
              "      <th>edge</th>\n",
              "      <th>exitTimes</th>\n",
              "    </tr>\n",
              "  </thead>\n",
              "  <tbody>\n",
              "    <tr>\n",
              "      <th>0</th>\n",
              "      <td>bus_M2:France.0</td>\n",
              "      <td>bus</td>\n",
              "      <td>14423.00</td>\n",
              "      <td>-153424#0 -153433#0 -153451#6 -153451#5 -15345...</td>\n",
              "      <td>None</td>\n",
              "    </tr>\n",
              "    <tr>\n",
              "      <th>1</th>\n",
              "      <td>bus_M4:HotelVille.0</td>\n",
              "      <td>bus</td>\n",
              "      <td>14600.00</td>\n",
              "      <td>152920#2 153010#0 153010#1 -153476#22 -153476#...</td>\n",
              "      <td>None</td>\n",
              "    </tr>\n",
              "    <tr>\n",
              "      <th>2</th>\n",
              "      <td>bus_M4:Train.0</td>\n",
              "      <td>bus</td>\n",
              "      <td>14598.00</td>\n",
              "      <td>-152909 152909 153476#14 153476#15 153476#16 1...</td>\n",
              "      <td>None</td>\n",
              "    </tr>\n",
              "    <tr>\n",
              "      <th>3</th>\n",
              "      <td>bus_M2:Turbie.0</td>\n",
              "      <td>bus</td>\n",
              "      <td>14596.00</td>\n",
              "      <td>-153460 152256 153459#0 -153457 153452#1 15345...</td>\n",
              "      <td>None</td>\n",
              "    </tr>\n",
              "    <tr>\n",
              "      <th>4</th>\n",
              "      <td>bus_M1:Eze.0</td>\n",
              "      <td>bus</td>\n",
              "      <td>14422.00</td>\n",
              "      <td>-153460 152256 153459#0 153459#1 152903 -15347...</td>\n",
              "      <td>None</td>\n",
              "    </tr>\n",
              "    <tr>\n",
              "      <th>...</th>\n",
              "      <td>...</td>\n",
              "      <td>...</td>\n",
              "      <td>...</td>\n",
              "      <td>...</td>\n",
              "      <td>...</td>\n",
              "    </tr>\n",
              "    <tr>\n",
              "      <th>46806</th>\n",
              "      <td>bus_M5:PontUnion.39</td>\n",
              "      <td>bus</td>\n",
              "      <td>49526.00</td>\n",
              "      <td>152993#0 152993#1 152239 153357#0 153357#1 153...</td>\n",
              "      <td>None</td>\n",
              "    </tr>\n",
              "    <tr>\n",
              "      <th>46807</th>\n",
              "      <td>train_M0:France.27</td>\n",
              "      <td>train</td>\n",
              "      <td>47567.00</td>\n",
              "      <td>152193</td>\n",
              "      <td>None</td>\n",
              "    </tr>\n",
              "    <tr>\n",
              "      <th>46808</th>\n",
              "      <td>bus_M5:Ramingao.39</td>\n",
              "      <td>bus</td>\n",
              "      <td>49578.00</td>\n",
              "      <td>153656 152283 -152555 -153357#2 -153357#1 -153...</td>\n",
              "      <td>None</td>\n",
              "    </tr>\n",
              "    <tr>\n",
              "      <th>46809</th>\n",
              "      <td>bus_1:SaintRoman.38</td>\n",
              "      <td>bus</td>\n",
              "      <td>48847.00</td>\n",
              "      <td>-152773 152774 -152760 -152763 152776 152817#0...</td>\n",
              "      <td>None</td>\n",
              "    </tr>\n",
              "    <tr>\n",
              "      <th>46810</th>\n",
              "      <td>bus_2:Jardin.38</td>\n",
              "      <td>bus</td>\n",
              "      <td>48979.00</td>\n",
              "      <td>-152773 152774 -152760 -152763 152776 152817#0...</td>\n",
              "      <td>None</td>\n",
              "    </tr>\n",
              "  </tbody>\n",
              "</table>\n",
              "<p>46811 rows × 5 columns</p>\n",
              "</div>"
            ],
            "text/plain": [
              "                        id  ... exitTimes\n",
              "0          bus_M2:France.0  ...      None\n",
              "1      bus_M4:HotelVille.0  ...      None\n",
              "2           bus_M4:Train.0  ...      None\n",
              "3          bus_M2:Turbie.0  ...      None\n",
              "4             bus_M1:Eze.0  ...      None\n",
              "...                    ...  ...       ...\n",
              "46806  bus_M5:PontUnion.39  ...      None\n",
              "46807   train_M0:France.27  ...      None\n",
              "46808   bus_M5:Ramingao.39  ...      None\n",
              "46809  bus_1:SaintRoman.38  ...      None\n",
              "46810      bus_2:Jardin.38  ...      None\n",
              "\n",
              "[46811 rows x 5 columns]"
            ]
          },
          "metadata": {
            "tags": []
          },
          "execution_count": 9
        }
      ]
    },
    {
      "cell_type": "code",
      "metadata": {
        "id": "LKTXkoL5kATo",
        "colab_type": "code",
        "colab": {
          "base_uri": "https://localhost:8080/",
          "height": 35
        },
        "outputId": "fe33e7bd-fa9d-445c-a22f-66e07ab847f8"
      },
      "source": [
        "from google.colab import files\n",
        "vehroutedata.to_csv('vehroutedata_quebec.csv') \n",
        "files.download('vehroutedata_quebec.csv')"
      ],
      "execution_count": null,
      "outputs": [
        {
          "output_type": "display_data",
          "data": {
            "application/javascript": [
              "\n",
              "    async function download(id, filename, size) {\n",
              "      if (!google.colab.kernel.accessAllowed) {\n",
              "        return;\n",
              "      }\n",
              "      const div = document.createElement('div');\n",
              "      const label = document.createElement('label');\n",
              "      label.textContent = `Downloading \"${filename}\": `;\n",
              "      div.appendChild(label);\n",
              "      const progress = document.createElement('progress');\n",
              "      progress.max = size;\n",
              "      div.appendChild(progress);\n",
              "      document.body.appendChild(div);\n",
              "\n",
              "      const buffers = [];\n",
              "      let downloaded = 0;\n",
              "\n",
              "      const channel = await google.colab.kernel.comms.open(id);\n",
              "      // Send a message to notify the kernel that we're ready.\n",
              "      channel.send({})\n",
              "\n",
              "      for await (const message of channel.messages) {\n",
              "        // Send a message to notify the kernel that we're ready.\n",
              "        channel.send({})\n",
              "        if (message.buffers) {\n",
              "          for (const buffer of message.buffers) {\n",
              "            buffers.push(buffer);\n",
              "            downloaded += buffer.byteLength;\n",
              "            progress.value = downloaded;\n",
              "          }\n",
              "        }\n",
              "      }\n",
              "      const blob = new Blob(buffers, {type: 'application/binary'});\n",
              "      const a = document.createElement('a');\n",
              "      a.href = window.URL.createObjectURL(blob);\n",
              "      a.download = filename;\n",
              "      div.appendChild(a);\n",
              "      a.click();\n",
              "      div.remove();\n",
              "    }\n",
              "  "
            ],
            "text/plain": [
              "<IPython.core.display.Javascript object>"
            ]
          },
          "metadata": {
            "tags": []
          }
        },
        {
          "output_type": "display_data",
          "data": {
            "application/javascript": [
              "download(\"download_953ca847-3699-4540-94b7-878fe7d5e98a\", \"vehroutedata_quebec.csv\", 128136867)"
            ],
            "text/plain": [
              "<IPython.core.display.Javascript object>"
            ]
          },
          "metadata": {
            "tags": []
          }
        }
      ]
    }
  ]
}