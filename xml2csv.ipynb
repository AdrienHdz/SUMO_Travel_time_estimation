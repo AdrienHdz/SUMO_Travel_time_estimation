{
 "cells": [
  {
   "cell_type": "markdown",
   "metadata": {
    "colab_type": "text",
    "id": "view-in-github"
   },
   "source": [
    "<a href=\"https://colab.research.google.com/github/AdrienHdz/SUMO_Travel_time_estimation/blob/master/xml2csv_Sumo.ipynb\" target=\"_parent\"><img src=\"https://colab.research.google.com/assets/colab-badge.svg\" alt=\"Open In Colab\"/></a>"
   ]
  },
  {
   "cell_type": "code",
   "execution_count": 1,
   "metadata": {
    "colab": {
     "base_uri": "https://localhost:8080/",
     "height": 35
    },
    "colab_type": "code",
    "id": "uKyQR-ygP2OU",
    "outputId": "a1e9d58e-4374-4adf-e078-7f10f5c4cc25"
   },
   "outputs": [
    {
     "name": "stdout",
     "output_type": "stream",
     "text": [
      "<Element 'routes' at 0x000001FAD1F15728>\n"
     ]
    }
   ],
   "source": [
    "#!/usr/bin/env python\n",
    "# Eclipse SUMO, Simulation of Urban MObility; see https://eclipse.org/sumo\n",
    "# Copyright (C) 2013-2019 German Aerospace Center (DLR) and others.\n",
    "# This program and the accompanying materials\n",
    "# are made available under the terms of the Eclipse Public License v2.0\n",
    "# which accompanies this distribution, and is available at\n",
    "# http://www.eclipse.org/legal/epl-v20.html\n",
    "# SPDX-License-Identifier: EPL-2.0\n",
    "\n",
    "# @file    xml2csv.py\n",
    "# @author  Adrien Hernandez\n",
    "\n",
    "import xml.etree.ElementTree as ET\n",
    "import pandas as pd\n",
    "\n",
    "# Select Sumo vehroute xml output \n",
    "mytree = ET.parse('Quebec\\osm.vehroute.xml')\n",
    "myroot = mytree.getroot()\n",
    "\n",
    "print(myroot)"
   ]
  },
  {
   "cell_type": "code",
   "execution_count": 2,
   "metadata": {},
   "outputs": [],
   "source": [
    "id_trip = [], type_vehicle = []; depart = []; edges = []; exitTimes = []\n",
    "\n",
    "def extract_data(root):\n",
    "    for child in root.findall(\"vehicle\"):\n",
    "        id_trip.append(child.get(\"id\"))\n",
    "        type_vehicle.append(child.get(\"type\"))\n",
    "        depart.append(child.get(\"depart\"))\n",
    "        if child.find(\"route\") is not None:\n",
    "            rank = child.find('route')\n",
    "            edges.append(rank.get(\"edges\"))\n",
    "            exitTimes.append(rank.get(\"exitTimes\"))\n",
    "        else:\n",
    "            rank = child.find('routeDistribution')\n",
    "            rank = rank[-1]\n",
    "            for rout in rank.iter('route'):\n",
    "                edges.append(rout.get(\"edges\"))\n",
    "                exitTimes.append(rout.get(\"exitTimes\"))"
   ]
  },
  {
   "cell_type": "code",
   "execution_count": 3,
   "metadata": {},
   "outputs": [],
   "source": [
    "extract_data(myroot)"
   ]
  },
  {
   "cell_type": "code",
   "execution_count": 4,
   "metadata": {
    "colab": {
     "base_uri": "https://localhost:8080/",
     "height": 35
    },
    "colab_type": "code",
    "id": "Ql_ielVKebIS",
    "outputId": "a16b93da-610b-473d-d9bd-d0215b373638"
   },
   "outputs": [
    {
     "data": {
      "text/plain": [
       "(105021, 105021, 105021, 105021, 105021)"
      ]
     },
     "execution_count": 4,
     "metadata": {},
     "output_type": "execute_result"
    }
   ],
   "source": [
    "len(id_trip), len(type_vehicle), len(depart), len(edges), len(exitTimes)"
   ]
  },
  {
   "cell_type": "code",
   "execution_count": 5,
   "metadata": {
    "colab": {},
    "colab_type": "code",
    "id": "MW0dvq9hlQ1x"
   },
   "outputs": [],
   "source": [
    "id_trip = pd.Series(id_trip); type_vehicle = pd.Series(type_vehicle); depart = pd.Series(depart); edges = pd.Series(edges); exitTimes = pd.Series(exitTimes)"
   ]
  },
  {
   "cell_type": "code",
   "execution_count": 6,
   "metadata": {
    "colab": {},
    "colab_type": "code",
    "id": "s1ELtbVGobF0"
   },
   "outputs": [],
   "source": [
    "vehroutedata = pd.concat([id_trip, type_vehicle, depart, edges, exitTimes], axis=1)\n",
    "vehroutedata.columns = [\"id\", \"type\", \"depart\", \"edge\", \"exitTimes\"]"
   ]
  },
  {
   "cell_type": "code",
   "execution_count": 7,
   "metadata": {
    "colab": {
     "base_uri": "https://localhost:8080/",
     "height": 415
    },
    "colab_type": "code",
    "id": "R33EHJmojbc_",
    "outputId": "b7f17554-3863-4b37-9bcf-cc4c0a652358"
   },
   "outputs": [
    {
     "name": "stdout",
     "output_type": "stream",
     "text": [
      "             id  type    depart  \\\n",
      "0          0117  None   1826.00   \n",
      "1           016  None   1809.00   \n",
      "2          0136  None   1854.00   \n",
      "3          0115  None   1823.00   \n",
      "4          0137  None   1856.00   \n",
      "...         ...   ...       ...   \n",
      "105016  0511905  None  82658.00   \n",
      "105017  0511933  None  82700.00   \n",
      "105018  0511972  None  82758.00   \n",
      "105019  0511980  None  82770.00   \n",
      "105020  0511990  None  82785.00   \n",
      "\n",
      "                                                     edge  \\\n",
      "0       -25775336#1 -25775336#0 633452341#0 633452341#...   \n",
      "1       -25154426#4 25420525#3 25420525#4 -25482062#3 ...   \n",
      "2       351535176#1 -351535176#1 -351535176#0 -2517066...   \n",
      "3       -633452341#4 -633452341#0 25775336#0 25775336#...   \n",
      "4       -303121078#4 -303121078#3 -303121078#2 -303121...   \n",
      "...                                                   ...   \n",
      "105016  472616473 303161437#2 303161437#3 303161437#4 ...   \n",
      "105017  27073573#1 17469145#5 17469145#6 17469145#7 17...   \n",
      "105018  -23111712 -23111709#0 -23110739#5 -23110836#3 ...   \n",
      "105019  25601087#2 25601087#3 25601087#4 25601087#5 47...   \n",
      "105020  23110836#3 -23110836#3 -23110836#2 -23110836#1...   \n",
      "\n",
      "                                                exitTimes  \n",
      "0       1842.00 1846.00 1850.00 1878.00 1884.00 1887.0...  \n",
      "1       1818.00 1830.00 1838.00 1843.00 1846.00 1848.0...  \n",
      "2       1865.00 1870.00 1878.00 1883.00 1885.00 1887.0...  \n",
      "3       1843.00 1850.00 1851.00 1866.00 1876.00 1882.0...  \n",
      "4       1866.00 1870.00 1875.00 1881.00 1920.00 1921.0...  \n",
      "...                                                   ...  \n",
      "105016  82661.00 82663.00 82664.00 82666.00 82667.00 8...  \n",
      "105017  82707.00 82708.00 82712.00 82714.00 82727.00 8...  \n",
      "105018  82790.00 82799.00 82811.00 82832.00 82846.00 8...  \n",
      "105019  82778.00 82782.00 82796.00 82799.00 82802.00 8...  \n",
      "105020  82814.00 82836.00 82850.00 82865.00 82889.00 8...  \n",
      "\n",
      "[105021 rows x 5 columns]\n"
     ]
    }
   ],
   "source": [
    "print(vehroutedata)"
   ]
  },
  {
   "cell_type": "code",
   "execution_count": 8,
   "metadata": {
    "colab": {
     "base_uri": "https://localhost:8080/",
     "height": 35
    },
    "colab_type": "code",
    "id": "LKTXkoL5kATo",
    "outputId": "fe33e7bd-fa9d-445c-a22f-66e07ab847f8"
   },
   "outputs": [],
   "source": [
    "vehroutedata.to_csv(r'Quebec\\vehroutedata.csv', index = False)"
   ]
  }
 ],
 "metadata": {
  "colab": {
   "authorship_tag": "ABX9TyM2atC0rwoQrXivcgPcYhx0",
   "collapsed_sections": [],
   "include_colab_link": true,
   "name": "xml2csv_Sumo.ipynb",
   "provenance": []
  },
  "kernelspec": {
   "display_name": "Python 3",
   "language": "python",
   "name": "python3"
  },
  "language_info": {
   "codemirror_mode": {
    "name": "ipython",
    "version": 3
   },
   "file_extension": ".py",
   "mimetype": "text/x-python",
   "name": "python",
   "nbconvert_exporter": "python",
   "pygments_lexer": "ipython3",
   "version": "3.7.4"
  }
 },
 "nbformat": 4,
 "nbformat_minor": 1
}
