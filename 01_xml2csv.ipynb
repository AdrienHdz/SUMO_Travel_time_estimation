{
 "cells": [
  {
   "cell_type": "markdown",
   "metadata": {
    "colab_type": "text",
    "id": "view-in-github"
   },
   "source": [
    "<a href=\"https://colab.research.google.com/github/AdrienHdz/SUMO_Travel_time_estimation/blob/master/xml2csv_Sumo.ipynb\" target=\"_parent\"><img src=\"https://colab.research.google.com/assets/colab-badge.svg\" alt=\"Open In Colab\"/></a>"
   ]
  },
  {
   "cell_type": "code",
   "execution_count": 10,
   "metadata": {
    "colab": {
     "base_uri": "https://localhost:8080/",
     "height": 35
    },
    "colab_type": "code",
    "id": "uKyQR-ygP2OU",
    "outputId": "a1e9d58e-4374-4adf-e078-7f10f5c4cc25"
   },
   "outputs": [
    {
     "name": "stdout",
     "output_type": "stream",
     "text": [
      "<Element 'routes' at 0x000001F03990D180>\n"
     ]
    }
   ],
   "source": [
    "#!/usr/bin/env python\n",
    "# Eclipse SUMO, Simulation of Urban MObility; see https://eclipse.org/sumo\n",
    "# Copyright (C) 2013-2019 German Aerospace Center (DLR) and others.\n",
    "# This program and the accompanying materials\n",
    "# are made available under the terms of the Eclipse Public License v2.0\n",
    "# which accompanies this distribution, and is available at\n",
    "# http://www.eclipse.org/legal/epl-v20.html\n",
    "# SPDX-License-Identifier: EPL-2.0\n",
    "\n",
    "# @file    xml2csv.py\n",
    "# @author  Adrien Hernandez\n",
    "\n",
    "import xml.etree.ElementTree as ET\n",
    "import pandas as pd\n",
    "\n",
    "# Select Sumo vehroute xml output \n",
    "mytree = ET.parse('Quebec_data_2\\osm.vehroute.xml')\n",
    "myroot = mytree.getroot()\n",
    "\n",
    "print(myroot)"
   ]
  },
  {
   "cell_type": "code",
   "execution_count": 11,
   "metadata": {},
   "outputs": [],
   "source": [
    "id_trip = []; type_vehicle = []; depart = []; edges = []; exitTimes = []\n",
    "\n",
    "def extract_data(root):\n",
    "    for child in root.findall(\"vehicle\"):\n",
    "        id_trip.append(child.get(\"id\"))\n",
    "        type_vehicle.append(child.get(\"type\"))\n",
    "        depart.append(child.get(\"depart\"))\n",
    "        if child.find(\"route\") is not None:\n",
    "            rank = child.find('route')\n",
    "            edges.append(rank.get(\"edges\"))\n",
    "            exitTimes.append(rank.get(\"exitTimes\"))\n",
    "        else:\n",
    "            rank = child.find('routeDistribution')\n",
    "            rank = rank[-1]\n",
    "            for rout in rank.iter('route'):\n",
    "                edges.append(rout.get(\"edges\"))\n",
    "                exitTimes.append(rout.get(\"exitTimes\"))"
   ]
  },
  {
   "cell_type": "code",
   "execution_count": 12,
   "metadata": {},
   "outputs": [],
   "source": [
    "extract_data(myroot)"
   ]
  },
  {
   "cell_type": "code",
   "execution_count": 13,
   "metadata": {
    "colab": {
     "base_uri": "https://localhost:8080/",
     "height": 35
    },
    "colab_type": "code",
    "id": "Ql_ielVKebIS",
    "outputId": "a16b93da-610b-473d-d9bd-d0215b373638"
   },
   "outputs": [
    {
     "data": {
      "text/plain": [
       "(91772, 91772, 91772, 91772, 91772)"
      ]
     },
     "execution_count": 13,
     "metadata": {},
     "output_type": "execute_result"
    }
   ],
   "source": [
    "len(id_trip), len(type_vehicle), len(depart), len(edges), len(exitTimes)"
   ]
  },
  {
   "cell_type": "code",
   "execution_count": 14,
   "metadata": {
    "colab": {},
    "colab_type": "code",
    "id": "MW0dvq9hlQ1x"
   },
   "outputs": [],
   "source": [
    "id_trip = pd.Series(id_trip); type_vehicle = pd.Series(type_vehicle); depart = pd.Series(depart); edges = pd.Series(edges); exitTimes = pd.Series(exitTimes)"
   ]
  },
  {
   "cell_type": "code",
   "execution_count": 15,
   "metadata": {
    "colab": {},
    "colab_type": "code",
    "id": "s1ELtbVGobF0"
   },
   "outputs": [],
   "source": [
    "vehroutedata = pd.concat([id_trip, type_vehicle, depart, edges, exitTimes], axis=1)\n",
    "vehroutedata.columns = [\"id\", \"type\", \"depart\", \"edge\", \"exitTimes\"]"
   ]
  },
  {
   "cell_type": "code",
   "execution_count": 16,
   "metadata": {
    "colab": {
     "base_uri": "https://localhost:8080/",
     "height": 415
    },
    "colab_type": "code",
    "id": "R33EHJmojbc_",
    "outputId": "b7f17554-3863-4b37-9bcf-cc4c0a652358"
   },
   "outputs": [
    {
     "name": "stdout",
     "output_type": "stream",
     "text": [
      "            id  type    depart  \\\n",
      "0         0117  None   1826.00   \n",
      "1         0136  None   1854.00   \n",
      "2          014  None   1806.00   \n",
      "3          016  None   1809.00   \n",
      "4          010  None   1800.00   \n",
      "...        ...   ...       ...   \n",
      "91767  0153732  None  82398.00   \n",
      "91768  0153694  None  82341.00   \n",
      "91769  0153683  None  82325.00   \n",
      "91770  0153702  None  82353.00   \n",
      "91771  0153668  None  82302.00   \n",
      "\n",
      "                                                    edge  \\\n",
      "0      -25775336#1 -25775336#0 633452341#0 633452341#...   \n",
      "1      351535176#1 -351535176#1 -351535176#0 -2517066...   \n",
      "2      -25482096 25482098 -24411814#12 -24411814#11 -...   \n",
      "3      -25154426#4 25420525#3 25420525#4 -25482062#3 ...   \n",
      "4      25420497#2 25420497#3 -25420502 -268183780#1 -...   \n",
      "...                                                  ...   \n",
      "91767  17055393#1 377868532#0 377868532#1 164512033#9...   \n",
      "91768  25465249#13 25465249#14 -25465248#5 -25465248#...   \n",
      "91769  24411832#5 24411832#6 -264028375 25775363#8 -3...   \n",
      "91770  25775250#2 -25775250#2 -25775250#1 -25775250#0...   \n",
      "91771  590990513#0 590990513#1 -23110774#9 -23110774#...   \n",
      "\n",
      "                                               exitTimes  \n",
      "0      1842.00 1846.00 1851.00 1878.00 1883.00 1887.0...  \n",
      "1      1865.00 1870.00 1876.00 1881.00 1883.00 1885.0...  \n",
      "2      1828.00 1847.00 1852.00 1855.00 1857.00 1861.0...  \n",
      "3      1818.00 1831.00 1841.00 1846.00 1850.00 1852.0...  \n",
      "4      1814.00 1822.00 1828.00 1838.00 1842.00 1844.0...  \n",
      "...                                                  ...  \n",
      "91767  82407.00 82410.00 82414.00 82425.00 82435.00 8...  \n",
      "91768  82347.00 82362.00 82375.00 82377.00 82382.00 8...  \n",
      "91769  82335.00 82342.00 82364.00 82371.00 82379.00 8...  \n",
      "91770  82376.00 82398.00 82406.00 82418.00 82425.00 8...  \n",
      "91771  82312.00 82324.00 82336.00 82371.00 82378.00 8...  \n",
      "\n",
      "[91772 rows x 5 columns]\n"
     ]
    }
   ],
   "source": [
    "print(vehroutedata)"
   ]
  },
  {
   "cell_type": "code",
   "execution_count": 17,
   "metadata": {
    "colab": {
     "base_uri": "https://localhost:8080/",
     "height": 35
    },
    "colab_type": "code",
    "id": "LKTXkoL5kATo",
    "outputId": "fe33e7bd-fa9d-445c-a22f-66e07ab847f8"
   },
   "outputs": [],
   "source": [
    "vehroutedata.to_csv(r'Quebec_data_2\\vehroutedata.csv', index = False)"
   ]
  }
 ],
 "metadata": {
  "colab": {
   "authorship_tag": "ABX9TyM2atC0rwoQrXivcgPcYhx0",
   "collapsed_sections": [],
   "include_colab_link": true,
   "name": "xml2csv_Sumo.ipynb",
   "provenance": []
  },
  "kernelspec": {
   "display_name": "Python 3",
   "language": "python",
   "name": "python3"
  },
  "language_info": {
   "codemirror_mode": {
    "name": "ipython",
    "version": 3
   },
   "file_extension": ".py",
   "mimetype": "text/x-python",
   "name": "python",
   "nbconvert_exporter": "python",
   "pygments_lexer": "ipython3",
   "version": "3.8.5"
  }
 },
 "nbformat": 4,
 "nbformat_minor": 1
}
