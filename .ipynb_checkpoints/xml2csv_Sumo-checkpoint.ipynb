{
 "cells": [
  {
   "cell_type": "markdown",
   "metadata": {
    "colab_type": "text",
    "id": "view-in-github"
   },
   "source": [
    "<a href=\"https://colab.research.google.com/github/AdrienHdz/SUMO_Travel_time_estimation/blob/master/xml2csv_Sumo.ipynb\" target=\"_parent\"><img src=\"https://colab.research.google.com/assets/colab-badge.svg\" alt=\"Open In Colab\"/></a>"
   ]
  },
  {
   "cell_type": "code",
   "execution_count": 1,
   "metadata": {
    "colab": {
     "base_uri": "https://localhost:8080/",
     "height": 35
    },
    "colab_type": "code",
    "id": "uKyQR-ygP2OU",
    "outputId": "a1e9d58e-4374-4adf-e078-7f10f5c4cc25"
   },
   "outputs": [
    {
     "name": "stdout",
     "output_type": "stream",
     "text": [
      "<Element 'routes' at 0x0000019D99938EF0>\n"
     ]
    }
   ],
   "source": [
    "#!/usr/bin/env python\n",
    "# Eclipse SUMO, Simulation of Urban MObility; see https://eclipse.org/sumo\n",
    "# Copyright (C) 2013-2019 German Aerospace Center (DLR) and others.\n",
    "# This program and the accompanying materials\n",
    "# are made available under the terms of the Eclipse Public License v2.0\n",
    "# which accompanies this distribution, and is available at\n",
    "# http://www.eclipse.org/legal/epl-v20.html\n",
    "# SPDX-License-Identifier: EPL-2.0\n",
    "\n",
    "# @file    xml2csv_Sumo.py\n",
    "# @author  Adrien Hernandez\n",
    "\n",
    "import xml.etree.ElementTree as ET\n",
    "import pandas as pd\n",
    "\n",
    "# Select Sumo vehroute xml output \n",
    "mytree = ET.parse('osm.vehroute.xml')\n",
    "myroot = mytree.getroot()\n",
    "\n",
    "print(myroot)"
   ]
  },
  {
   "cell_type": "code",
   "execution_count": 9,
   "metadata": {},
   "outputs": [],
   "source": [
    "test = []\n",
    "id_trip = []\n",
    "type_vehicle = []\n",
    "depart = []\n",
    "edges = []\n",
    "exitTimes = []\n",
    "\n",
    "def extract_data(root):\n",
    "    for child in root.findall(\"vehicle\"):\n",
    "        id_trip.append(child.get(\"id\"))\n",
    "        type_vehicle.append(child.get(\"type\"))\n",
    "        depart.append(child.get(\"depart\"))\n",
    "        if child.find(\"route\") is not None:\n",
    "            rank = child.find('route')\n",
    "            edges.append(rank.get(\"edges\"))\n",
    "            exitTimes.append(rank.get(\"exitTimes\"))\n",
    "        else:\n",
    "            rank = child.find('routeDistribution')\n",
    "            rank = rank[-1]\n",
    "            for rout in rank.iter('route'):\n",
    "                edges.append(rout.get(\"edges\"))\n",
    "                exitTimes.append(rout.get(\"exitTimes\"))"
   ]
  },
  {
   "cell_type": "code",
   "execution_count": 10,
   "metadata": {},
   "outputs": [],
   "source": [
    "extract_data(myroot)"
   ]
  },
  {
   "cell_type": "code",
   "execution_count": 14,
   "metadata": {
    "colab": {
     "base_uri": "https://localhost:8080/",
     "height": 35
    },
    "colab_type": "code",
    "id": "Ql_ielVKebIS",
    "outputId": "a16b93da-610b-473d-d9bd-d0215b373638"
   },
   "outputs": [
    {
     "data": {
      "text/plain": [
       "(215302, 215302, 215302, 215302, 215302)"
      ]
     },
     "execution_count": 14,
     "metadata": {},
     "output_type": "execute_result"
    }
   ],
   "source": [
    "len(id_trip), len(type_vehicle), len(depart), len(edges), len(exitTimes)"
   ]
  },
  {
   "cell_type": "code",
   "execution_count": 15,
   "metadata": {
    "colab": {},
    "colab_type": "code",
    "id": "MW0dvq9hlQ1x"
   },
   "outputs": [],
   "source": [
    "id_trip = pd.Series(id_trip); type_vehicle = pd.Series(type_vehicle); depart = pd.Series(depart); edges = pd.Series(edges); exitTimes = pd.Series(exitTimes)"
   ]
  },
  {
   "cell_type": "code",
   "execution_count": 16,
   "metadata": {
    "colab": {},
    "colab_type": "code",
    "id": "s1ELtbVGobF0"
   },
   "outputs": [],
   "source": [
    "vehroutedata = pd.concat([id_trip, type_vehicle, depart, edges, exitTimes], axis=1)\n",
    "vehroutedata.columns = [\"id\", \"type\", \"depart\", \"edge\", \"exitTimes\"]"
   ]
  },
  {
   "cell_type": "code",
   "execution_count": 17,
   "metadata": {
    "colab": {
     "base_uri": "https://localhost:8080/",
     "height": 415
    },
    "colab_type": "code",
    "id": "R33EHJmojbc_",
    "outputId": "b7f17554-3863-4b37-9bcf-cc4c0a652358"
   },
   "outputs": [
    {
     "name": "stdout",
     "output_type": "stream",
     "text": [
      "                       id         type    depart  \\\n",
      "0            randUni834:1  passenger2b      5.00   \n",
      "1          randUni16882:1   passenger1     14.00   \n",
      "2          randUni11317:1  passenger2a     11.00   \n",
      "3       NBSKMS_Nightbus_0          bus     39.00   \n",
      "4       NBSKMS_Nightbus_1          bus     39.00   \n",
      "...                   ...          ...       ...   \n",
      "215297     AVL---_CN_1_31          bus  84621.00   \n",
      "215298         h38541c1:6   passenger1  86381.00   \n",
      "215299     randUni19449:1   passenger4  86344.00   \n",
      "215300       c1h38541c1:6   passenger1  86381.00   \n",
      "215301   c1randUni19449:1   passenger4  86344.00   \n",
      "\n",
      "                                                     edge  \\\n",
      "0                   --32406#3 --32406#2 --32406#1 --31212   \n",
      "1       -32340#7 -32770#6 -32278#0 --32940#1 --32940#0...   \n",
      "2       --31490 -31818#20 -31818#21 -30694#0 -30694#1 ...   \n",
      "3            -32278#1 -32278#2 -32278#3 -32278#4 -32278#5   \n",
      "4       --32278#5 --32278#4 --32278#3 --32278#2 --32278#1   \n",
      "...                                                   ...   \n",
      "215297  --30528#16 -32410#0 -32410#1 -32410#2 -32410#3...   \n",
      "215298  -31200 --30696#1 --30696#0 -31950#2 -30358#17 ...   \n",
      "215299  -31622#0 -31622#0-AddedOffRampEdge -31694 -327...   \n",
      "215300  -31200 --30696#1 --30696#0 -31950#2 -30358#17 ...   \n",
      "215301  -31622#0 -31622#0-AddedOffRampEdge -31694 -327...   \n",
      "\n",
      "                                                exitTimes  \n",
      "0                                 13.00 20.00 29.00 36.00  \n",
      "1             35.00 39.00 66.00 70.00 93.00 105.00 111.00  \n",
      "2       25.00 31.00 40.00 43.00 49.00 56.00 71.00 78.0...  \n",
      "3                       98.00 115.00 124.00 167.00 279.00  \n",
      "4                      167.00 208.00 217.00 290.00 327.00  \n",
      "...                                                   ...  \n",
      "215297  84680.00 84691.00 84721.00 84773.00 84800.00 8...  \n",
      "215298  86391.00 86393.00 86409.00 86421.00 86427.00 8...  \n",
      "215299  86352.00 86358.00 86384.00 86388.00 86391.00 8...  \n",
      "215300  86388.00 86390.00 86407.00 86418.00 86423.00 8...  \n",
      "215301  86353.00 86359.00 86387.00 86391.00 86395.00 8...  \n",
      "\n",
      "[215302 rows x 5 columns]\n"
     ]
    }
   ],
   "source": [
    "print(vehroutedata)"
   ]
  },
  {
   "cell_type": "code",
   "execution_count": 18,
   "metadata": {
    "colab": {
     "base_uri": "https://localhost:8080/",
     "height": 35
    },
    "colab_type": "code",
    "id": "LKTXkoL5kATo",
    "outputId": "fe33e7bd-fa9d-445c-a22f-66e07ab847f8"
   },
   "outputs": [],
   "source": [
    "vehroutedata.to_csv(r'vehroutedata.csv', index = False)"
   ]
  }
 ],
 "metadata": {
  "colab": {
   "authorship_tag": "ABX9TyM2atC0rwoQrXivcgPcYhx0",
   "collapsed_sections": [],
   "include_colab_link": true,
   "name": "xml2csv_Sumo.ipynb",
   "provenance": []
  },
  "kernelspec": {
   "display_name": "Python 3",
   "language": "python",
   "name": "python3"
  },
  "language_info": {
   "codemirror_mode": {
    "name": "ipython",
    "version": 3
   },
   "file_extension": ".py",
   "mimetype": "text/x-python",
   "name": "python",
   "nbconvert_exporter": "python",
   "pygments_lexer": "ipython3",
   "version": "3.8.5"
  }
 },
 "nbformat": 4,
 "nbformat_minor": 1
}
