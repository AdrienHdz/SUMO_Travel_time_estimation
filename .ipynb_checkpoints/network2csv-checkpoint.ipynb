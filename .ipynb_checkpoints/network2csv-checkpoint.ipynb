{
 "cells": [
  {
   "cell_type": "code",
   "execution_count": 1,
   "metadata": {},
   "outputs": [
    {
     "name": "stdout",
     "output_type": "stream",
     "text": [
      "<Element 'net' at 0x0000013F4A537408>\n"
     ]
    }
   ],
   "source": [
    "#!/usr/bin/env python\n",
    "# Eclipse SUMO, Simulation of Urban MObility; see https://eclipse.org/sumo\n",
    "# Copyright (C) 2013-2019 German Aerospace Center (DLR) and others.\n",
    "# This program and the accompanying materials\n",
    "# are made available under the terms of the Eclipse Public License v2.0\n",
    "# which accompanies this distribution, and is available at\n",
    "# http://www.eclipse.org/legal/epl-v20.html\n",
    "# SPDX-License-Identifier: EPL-2.0\n",
    "\n",
    "# @file    network2csv.py\n",
    "# @author  Adrien Hernandez\n",
    "\n",
    "import xml.etree.ElementTree as ET\n",
    "import pandas as pd\n",
    "\n",
    "# Select Sumo vehroute xml output \n",
    "mytree = ET.parse('Quebec\\osm.net.xml')\n",
    "myroot = mytree.getroot()\n",
    "\n",
    "print(myroot)"
   ]
  },
  {
   "cell_type": "code",
   "execution_count": 3,
   "metadata": {},
   "outputs": [],
   "source": [
    "edge_id = []; length = []\n",
    "\n",
    "def extract_network(root):\n",
    "    for child in root.findall(\"edge\"):\n",
    "        edge_id.append(child.get(\"id\"))\n",
    "        rank = child.find('lane')\n",
    "        length.append(rank.get(\"length\"))"
   ]
  },
  {
   "cell_type": "code",
   "execution_count": 4,
   "metadata": {},
   "outputs": [],
   "source": [
    "extract_network(myroot)"
   ]
  },
  {
   "cell_type": "code",
   "execution_count": 7,
   "metadata": {},
   "outputs": [
    {
     "data": {
      "text/plain": [
       "(77257, 77257)"
      ]
     },
     "execution_count": 7,
     "metadata": {},
     "output_type": "execute_result"
    }
   ],
   "source": [
    "len(edge_id), len(length)"
   ]
  },
  {
   "cell_type": "code",
   "execution_count": 9,
   "metadata": {},
   "outputs": [],
   "source": [
    "edge_id = pd.Series(edge_id); length = pd.Series(length)"
   ]
  },
  {
   "cell_type": "code",
   "execution_count": 12,
   "metadata": {},
   "outputs": [],
   "source": [
    "edges = pd.concat([edge_id, length], axis=1)\n",
    "edges.columns = [\"edge_id\", \"length\"]"
   ]
  },
  {
   "cell_type": "code",
   "execution_count": 13,
   "metadata": {},
   "outputs": [
    {
     "name": "stdout",
     "output_type": "stream",
     "text": [
      "                             edge_id length\n",
      "0      :102222884-AddedOffRampNode_0   8.40\n",
      "1                      :1179777771_0  19.11\n",
      "2                      :1179777771_1   0.54\n",
      "3                      :1179777771_4   1.20\n",
      "4                      :1179777771_2  18.07\n",
      "...                              ...    ...\n",
      "77252                    825260394#2  70.85\n",
      "77253                    825260396#0   3.31\n",
      "77254                    825260396#1  27.38\n",
      "77255                    825260397#0   4.33\n",
      "77256                    825260397#1  20.24\n",
      "\n",
      "[77257 rows x 2 columns]\n"
     ]
    }
   ],
   "source": [
    "print(edges)"
   ]
  },
  {
   "cell_type": "code",
   "execution_count": 14,
   "metadata": {},
   "outputs": [],
   "source": [
    "edges.to_csv(r'Quebec\\edges.csv', index = False)"
   ]
  }
 ],
 "metadata": {
  "kernelspec": {
   "display_name": "Python 3",
   "language": "python",
   "name": "python3"
  },
  "language_info": {
   "codemirror_mode": {
    "name": "ipython",
    "version": 3
   },
   "file_extension": ".py",
   "mimetype": "text/x-python",
   "name": "python",
   "nbconvert_exporter": "python",
   "pygments_lexer": "ipython3",
   "version": "3.7.4"
  }
 },
 "nbformat": 4,
 "nbformat_minor": 2
}
